{
 "metadata": {
  "name": "",
  "signature": "sha256:4429609dae9150d516792f7311c98133d1a73f87df396ae315124682374c9612"
 },
 "nbformat": 3,
 "nbformat_minor": 0,
 "worksheets": [
  {
   "cells": [
    {
     "cell_type": "markdown",
     "metadata": {},
     "source": [
      "# Exercises for \"Hands-on with Pydata: How to Build a Minimal Recommendation Engine\""
     ]
    },
    {
     "cell_type": "markdown",
     "metadata": {},
     "source": [
      "# Systems check: imports and files"
     ]
    },
    {
     "cell_type": "code",
     "collapsed": false,
     "input": [
      "import numpy as np\n",
      "import pandas as pd"
     ],
     "language": "python",
     "metadata": {},
     "outputs": [],
     "prompt_number": 1
    },
    {
     "cell_type": "markdown",
     "metadata": {},
     "source": [
      "# Numpy Questions: Indexing\n",
      "## 1. Access an individual element in a NumPy array"
     ]
    },
    {
     "cell_type": "code",
     "collapsed": false,
     "input": [
      "# given the following ndarray, access the its third element\n",
      "arr = np.arange(10)\n",
      "arr[2]"
     ],
     "language": "python",
     "metadata": {},
     "outputs": [
      {
       "metadata": {},
       "output_type": "pyout",
       "prompt_number": 5,
       "text": [
        "2"
       ]
      }
     ],
     "prompt_number": 5
    },
    {
     "cell_type": "markdown",
     "metadata": {},
     "source": [
      "## 2. Access the last column of a 2d array"
     ]
    },
    {
     "cell_type": "code",
     "collapsed": false,
     "input": [
      "# given the following ndarray, access its last column\n",
      "arr = np.array([[5,4,2,5],[4,5,1,12],[0,1,5,4]])\n",
      "arr[:,-1]"
     ],
     "language": "python",
     "metadata": {},
     "outputs": [
      {
       "metadata": {},
       "output_type": "pyout",
       "prompt_number": 8,
       "text": [
        "array([ 5, 12,  4])"
       ]
      }
     ],
     "prompt_number": 8
    },
    {
     "cell_type": "markdown",
     "metadata": {},
     "source": [
      "## 3. Select all elements from a 2d array that are larger than zero"
     ]
    },
    {
     "cell_type": "code",
     "collapsed": false,
     "input": [
      "# given the following ndarray, obtain all elements that are larger than zero\n",
      "arr = np.array([[-0.28179535,  1.80896278, -1.08991099, -1.20264003,  0.61651465],\n",
      "                [ 0.49983669,  0.28402664, -0.12685554,  0.81266623,  0.96586634]])\n",
      "arr[arr>0]"
     ],
     "language": "python",
     "metadata": {},
     "outputs": [
      {
       "metadata": {},
       "output_type": "pyout",
       "prompt_number": 9,
       "text": [
        "array([ 1.80896278,  0.61651465,  0.49983669,  0.28402664,  0.81266623,\n",
        "        0.96586634])"
       ]
      }
     ],
     "prompt_number": 9
    },
    {
     "cell_type": "markdown",
     "metadata": {},
     "source": [
      "## 4. Set all negative values of an array to 1"
     ]
    },
    {
     "cell_type": "code",
     "collapsed": false,
     "input": [
      "# given the following ndarray, set the last two elements to 10\n",
      "arr = np.array([1,2,-10,5,-6])\n",
      "arr[arr<0] = 1\n",
      "arr"
     ],
     "language": "python",
     "metadata": {},
     "outputs": [
      {
       "metadata": {},
       "output_type": "pyout",
       "prompt_number": 11,
       "text": [
        "array([1, 2, 1, 5, 1])"
       ]
      }
     ],
     "prompt_number": 11
    },
    {
     "cell_type": "markdown",
     "metadata": {},
     "source": [
      "# Numpy Questions: Operations"
     ]
    },
    {
     "cell_type": "markdown",
     "metadata": {},
     "source": [
      "## 1. Compute the sum of a 1D array"
     ]
    },
    {
     "cell_type": "code",
     "collapsed": false,
     "input": [
      "# given the following ndarray, compute its sum\n",
      "arr = np.arange(10)\n",
      "arr.sum()"
     ],
     "language": "python",
     "metadata": {},
     "outputs": [
      {
       "metadata": {},
       "output_type": "pyout",
       "prompt_number": 12,
       "text": [
        "45"
       ]
      }
     ],
     "prompt_number": 12
    },
    {
     "cell_type": "markdown",
     "metadata": {},
     "source": [
      "## 2. Compute the mean of a 1D array"
     ]
    },
    {
     "cell_type": "code",
     "collapsed": false,
     "input": [
      "# given the following ndarray, compute its mean\n",
      "arr = np.array([50,-79,80,35])\n",
      "arr.mean()"
     ],
     "language": "python",
     "metadata": {},
     "outputs": [
      {
       "metadata": {},
       "output_type": "pyout",
       "prompt_number": 13,
       "text": [
        "21.5"
       ]
      }
     ],
     "prompt_number": 13
    },
    {
     "cell_type": "markdown",
     "metadata": {},
     "source": [
      "## 3. How do you detect the presence of NANs in an array?"
     ]
    },
    {
     "cell_type": "code",
     "collapsed": false,
     "input": [
      "# given the following ndarray, detect all elements that are nans\n",
      "arr = np.array([np.nan] * 10)\n",
      "arr[2:4] = 5\n",
      "np.isnan(arr)"
     ],
     "language": "python",
     "metadata": {},
     "outputs": [
      {
       "metadata": {},
       "output_type": "pyout",
       "prompt_number": 16,
       "text": [
        "array([ True,  True, False, False,  True,  True,  True,  True,  True,  True], dtype=bool)"
       ]
      }
     ],
     "prompt_number": 16
    },
    {
     "cell_type": "markdown",
     "metadata": {},
     "source": [
      "# Pandas questions: Series and DataFrames\n",
      "## 1. Adding a column in a DataFrame"
     ]
    },
    {
     "cell_type": "code",
     "collapsed": false,
     "input": [
      "# given the following DataFrame, add a new column to it\n",
      "df = pd.DataFrame({'col1': [1,2,3,4]})\n",
      "df['col2'] = [5,6,7,8]\n",
      "df"
     ],
     "language": "python",
     "metadata": {},
     "outputs": [
      {
       "html": [
        "<div style=\"max-height:1000px;max-width:1500px;overflow:auto;\">\n",
        "<table border=\"1\" class=\"dataframe\">\n",
        "  <thead>\n",
        "    <tr style=\"text-align: right;\">\n",
        "      <th></th>\n",
        "      <th>col1</th>\n",
        "      <th>col2</th>\n",
        "    </tr>\n",
        "  </thead>\n",
        "  <tbody>\n",
        "    <tr>\n",
        "      <th>0</th>\n",
        "      <td> 1</td>\n",
        "      <td> 5</td>\n",
        "    </tr>\n",
        "    <tr>\n",
        "      <th>1</th>\n",
        "      <td> 2</td>\n",
        "      <td> 6</td>\n",
        "    </tr>\n",
        "    <tr>\n",
        "      <th>2</th>\n",
        "      <td> 3</td>\n",
        "      <td> 7</td>\n",
        "    </tr>\n",
        "    <tr>\n",
        "      <th>3</th>\n",
        "      <td> 4</td>\n",
        "      <td> 8</td>\n",
        "    </tr>\n",
        "  </tbody>\n",
        "</table>\n",
        "<p>4 rows \u00d7 2 columns</p>\n",
        "</div>"
       ],
       "metadata": {},
       "output_type": "pyout",
       "prompt_number": 18,
       "text": [
        "   col1  col2\n",
        "0     1     5\n",
        "1     2     6\n",
        "2     3     7\n",
        "3     4     8\n",
        "\n",
        "[4 rows x 2 columns]"
       ]
      }
     ],
     "prompt_number": 18
    },
    {
     "cell_type": "markdown",
     "metadata": {},
     "source": [
      "## 2. Deleting a row in a DataFrame"
     ]
    },
    {
     "cell_type": "code",
     "collapsed": false,
     "input": [
      "# given the following DataFrame, delete row 'd' from it\n",
      "df = pd.DataFrame({'col1': [1,2,3,4]}, index = ['a','b','c','d'])\n",
      "df.drop('d', axis=0)"
     ],
     "language": "python",
     "metadata": {},
     "outputs": [
      {
       "html": [
        "<div style=\"max-height:1000px;max-width:1500px;overflow:auto;\">\n",
        "<table border=\"1\" class=\"dataframe\">\n",
        "  <thead>\n",
        "    <tr style=\"text-align: right;\">\n",
        "      <th></th>\n",
        "      <th>col1</th>\n",
        "    </tr>\n",
        "  </thead>\n",
        "  <tbody>\n",
        "    <tr>\n",
        "      <th>a</th>\n",
        "      <td> 1</td>\n",
        "    </tr>\n",
        "    <tr>\n",
        "      <th>b</th>\n",
        "      <td> 2</td>\n",
        "    </tr>\n",
        "    <tr>\n",
        "      <th>c</th>\n",
        "      <td> 3</td>\n",
        "    </tr>\n",
        "  </tbody>\n",
        "</table>\n",
        "<p>3 rows \u00d7 1 columns</p>\n",
        "</div>"
       ],
       "metadata": {},
       "output_type": "pyout",
       "prompt_number": 21,
       "text": [
        "   col1\n",
        "a     1\n",
        "b     2\n",
        "c     3\n",
        "\n",
        "[3 rows x 1 columns]"
       ]
      }
     ],
     "prompt_number": 21
    },
    {
     "cell_type": "markdown",
     "metadata": {},
     "source": [
      "## 3. Creating a DataFrame from a few Series"
     ]
    },
    {
     "cell_type": "code",
     "collapsed": false,
     "input": [
      "# given the following three Series, create a DataFrame such that it holds them in its columns\n",
      "ser_1 = pd.Series(np.random.randn(6))\n",
      "ser_2 = pd.Series(np.random.randn(6))\n",
      "ser_3 = pd.Series(np.random.randn(6))\n",
      "\n",
      "ser_1.mean()\n",
      "pd = DataFrame()"
     ],
     "language": "python",
     "metadata": {},
     "outputs": [],
     "prompt_number": 24
    },
    {
     "cell_type": "markdown",
     "metadata": {},
     "source": [
      "# Pandas questions: Indexing"
     ]
    },
    {
     "cell_type": "markdown",
     "metadata": {},
     "source": [
      "## 1. Indexing into a specific column"
     ]
    },
    {
     "cell_type": "code",
     "collapsed": false,
     "input": [
      "# given the following DataFrame, try to index into the 'col_2' column\n",
      "df = pd.DataFrame(data={'col_1': [0.12, 7, 45, 10], 'col_2': [0.9, 9, 34, 11]},\n",
      "                  columns=['col_1', 'col_2', 'col_3'],\n",
      "                  index=['obs1', 'obs2', 'obs3', 'obs4'])\n",
      "df['col_2']"
     ],
     "language": "python",
     "metadata": {},
     "outputs": [
      {
       "metadata": {},
       "output_type": "pyout",
       "prompt_number": 26,
       "text": [
        "obs1     0.9\n",
        "obs2     9.0\n",
        "obs3    34.0\n",
        "obs4    11.0\n",
        "Name: col_2, dtype: float64"
       ]
      }
     ],
     "prompt_number": 26
    },
    {
     "cell_type": "markdown",
     "metadata": {},
     "source": [
      "## 2. Label-based indexing"
     ]
    },
    {
     "cell_type": "code",
     "collapsed": false,
     "input": [
      "# using the same DataFrame, index into the row whose index is 'obs_3'\n",
      "df.ix['obs3']"
     ],
     "language": "python",
     "metadata": {},
     "outputs": [
      {
       "metadata": {},
       "output_type": "pyout",
       "prompt_number": 32,
       "text": [
        "col_1     45\n",
        "col_2     34\n",
        "col_3    NaN\n",
        "Name: obs3, dtype: object"
       ]
      }
     ],
     "prompt_number": 32
    },
    {
     "cell_type": "markdown",
     "metadata": {},
     "source": [
      "# Reco systems questions: Data Loading\n",
      "## 1. How to load the `users` and `movies` portions of MovieLens"
     ]
    },
    {
     "cell_type": "code",
     "collapsed": false,
     "input": [
      "import pandas as pd\n",
      "\n",
      "users = pd.read_table('data/ml-1m/users.dat',\n",
      "                      sep='::', header=None,\n",
      "                      names=['user_id', 'gender', 'age', 'occupation', 'zip'])\n",
      "\n",
      "movies = pd.read_table('data/ml-1m/movies.dat',\n",
      "                       sep='::', header=None,\n",
      "                       names=['movie_id', 'title', 'genres'])"
     ],
     "language": "python",
     "metadata": {},
     "outputs": [],
     "prompt_number": 33
    },
    {
     "cell_type": "markdown",
     "metadata": {},
     "source": [
      "## 2. How to load the training and testing subsets"
     ]
    },
    {
     "cell_type": "code",
     "collapsed": false,
     "input": [
      "# subset version (hosted notebook)\n",
      "movielens_train = pd.read_csv('data/movielens_train.csv', index_col=0)\n",
      "movielens_test = pd.read_csv('data/movielens_test.csv', index_col=0)"
     ],
     "language": "python",
     "metadata": {},
     "outputs": [],
     "prompt_number": 34
    },
    {
     "cell_type": "code",
     "collapsed": false,
     "input": [
      "movielens_train.head()"
     ],
     "language": "python",
     "metadata": {},
     "outputs": [
      {
       "html": [
        "<div style=\"max-height:1000px;max-width:1500px;overflow:auto;\">\n",
        "<table border=\"1\" class=\"dataframe\">\n",
        "  <thead>\n",
        "    <tr style=\"text-align: right;\">\n",
        "      <th></th>\n",
        "      <th>user_id</th>\n",
        "      <th>movie_id</th>\n",
        "      <th>rating</th>\n",
        "      <th>timestamp</th>\n",
        "      <th>gender</th>\n",
        "      <th>age</th>\n",
        "      <th>occupation</th>\n",
        "      <th>zip</th>\n",
        "      <th>title</th>\n",
        "      <th>genres</th>\n",
        "      <th>for_testing</th>\n",
        "    </tr>\n",
        "  </thead>\n",
        "  <tbody>\n",
        "    <tr>\n",
        "      <th>593263</th>\n",
        "      <td> 3562</td>\n",
        "      <td> 3798</td>\n",
        "      <td> 4</td>\n",
        "      <td> 967332344</td>\n",
        "      <td> F</td>\n",
        "      <td> 25</td>\n",
        "      <td>  6</td>\n",
        "      <td> 32812</td>\n",
        "      <td>   What Lies Beneath (2000)</td>\n",
        "      <td>                Thriller</td>\n",
        "      <td> False</td>\n",
        "    </tr>\n",
        "    <tr>\n",
        "      <th>235597</th>\n",
        "      <td> 1051</td>\n",
        "      <td> 3793</td>\n",
        "      <td> 4</td>\n",
        "      <td> 974958593</td>\n",
        "      <td> F</td>\n",
        "      <td> 25</td>\n",
        "      <td>  0</td>\n",
        "      <td> 60513</td>\n",
        "      <td>               X-Men (2000)</td>\n",
        "      <td>           Action|Sci-Fi</td>\n",
        "      <td> False</td>\n",
        "    </tr>\n",
        "    <tr>\n",
        "      <th>219003</th>\n",
        "      <td> 3727</td>\n",
        "      <td> 2366</td>\n",
        "      <td> 3</td>\n",
        "      <td> 966309522</td>\n",
        "      <td> M</td>\n",
        "      <td> 35</td>\n",
        "      <td>  7</td>\n",
        "      <td> 74401</td>\n",
        "      <td>           King Kong (1933)</td>\n",
        "      <td> Action|Adventure|Horror</td>\n",
        "      <td> False</td>\n",
        "    </tr>\n",
        "    <tr>\n",
        "      <th>685090</th>\n",
        "      <td> 4666</td>\n",
        "      <td> 1094</td>\n",
        "      <td> 3</td>\n",
        "      <td> 963843918</td>\n",
        "      <td> M</td>\n",
        "      <td> 35</td>\n",
        "      <td>  1</td>\n",
        "      <td> 53704</td>\n",
        "      <td>    Crying Game, The (1992)</td>\n",
        "      <td>       Drama|Romance|War</td>\n",
        "      <td> False</td>\n",
        "    </tr>\n",
        "    <tr>\n",
        "      <th>312377</th>\n",
        "      <td> 3261</td>\n",
        "      <td> 1095</td>\n",
        "      <td> 4</td>\n",
        "      <td> 968251750</td>\n",
        "      <td> M</td>\n",
        "      <td> 45</td>\n",
        "      <td> 20</td>\n",
        "      <td> 87505</td>\n",
        "      <td> Glengarry Glen Ross (1992)</td>\n",
        "      <td>                   Drama</td>\n",
        "      <td> False</td>\n",
        "    </tr>\n",
        "  </tbody>\n",
        "</table>\n",
        "<p>5 rows \u00d7 11 columns</p>\n",
        "</div>"
       ],
       "metadata": {},
       "output_type": "pyout",
       "prompt_number": 35,
       "text": [
        "        user_id  movie_id  rating  timestamp gender  age  occupation    zip  \\\n",
        "593263     3562      3798       4  967332344      F   25           6  32812   \n",
        "235597     1051      3793       4  974958593      F   25           0  60513   \n",
        "219003     3727      2366       3  966309522      M   35           7  74401   \n",
        "685090     4666      1094       3  963843918      M   35           1  53704   \n",
        "312377     3261      1095       4  968251750      M   45          20  87505   \n",
        "\n",
        "                             title                   genres for_testing  \n",
        "593263    What Lies Beneath (2000)                 Thriller       False  \n",
        "235597                X-Men (2000)            Action|Sci-Fi       False  \n",
        "219003            King Kong (1933)  Action|Adventure|Horror       False  \n",
        "685090     Crying Game, The (1992)        Drama|Romance|War       False  \n",
        "312377  Glengarry Glen Ross (1992)                    Drama       False  \n",
        "\n",
        "[5 rows x 11 columns]"
       ]
      }
     ],
     "prompt_number": 35
    },
    {
     "cell_type": "code",
     "collapsed": false,
     "input": [
      "movielens_test.head()"
     ],
     "language": "python",
     "metadata": {},
     "outputs": [
      {
       "html": [
        "<div style=\"max-height:1000px;max-width:1500px;overflow:auto;\">\n",
        "<table border=\"1\" class=\"dataframe\">\n",
        "  <thead>\n",
        "    <tr style=\"text-align: right;\">\n",
        "      <th></th>\n",
        "      <th>user_id</th>\n",
        "      <th>movie_id</th>\n",
        "      <th>rating</th>\n",
        "      <th>timestamp</th>\n",
        "      <th>gender</th>\n",
        "      <th>age</th>\n",
        "      <th>occupation</th>\n",
        "      <th>zip</th>\n",
        "      <th>title</th>\n",
        "      <th>genres</th>\n",
        "      <th>for_testing</th>\n",
        "    </tr>\n",
        "  </thead>\n",
        "  <tbody>\n",
        "    <tr>\n",
        "      <th>693323</th>\n",
        "      <td> 4653</td>\n",
        "      <td> 2648</td>\n",
        "      <td> 4</td>\n",
        "      <td>  975532459</td>\n",
        "      <td> M</td>\n",
        "      <td> 35</td>\n",
        "      <td> 12</td>\n",
        "      <td> 95051</td>\n",
        "      <td>       Frankenstein (1931)</td>\n",
        "      <td>                Horror</td>\n",
        "      <td> False</td>\n",
        "    </tr>\n",
        "    <tr>\n",
        "      <th>24177 </th>\n",
        "      <td> 2259</td>\n",
        "      <td> 1270</td>\n",
        "      <td> 4</td>\n",
        "      <td>  974591524</td>\n",
        "      <td> F</td>\n",
        "      <td> 56</td>\n",
        "      <td> 16</td>\n",
        "      <td> 70503</td>\n",
        "      <td> Back to the Future (1985)</td>\n",
        "      <td>         Comedy|Sci-Fi</td>\n",
        "      <td> False</td>\n",
        "    </tr>\n",
        "    <tr>\n",
        "      <th>202202</th>\n",
        "      <td> 3032</td>\n",
        "      <td> 1378</td>\n",
        "      <td> 5</td>\n",
        "      <td>  970343147</td>\n",
        "      <td> M</td>\n",
        "      <td> 25</td>\n",
        "      <td>  0</td>\n",
        "      <td> 47303</td>\n",
        "      <td>         Young Guns (1988)</td>\n",
        "      <td> Action|Comedy|Western</td>\n",
        "      <td> False</td>\n",
        "    </tr>\n",
        "    <tr>\n",
        "      <th>262003</th>\n",
        "      <td> 3029</td>\n",
        "      <td> 2289</td>\n",
        "      <td> 4</td>\n",
        "      <td>  972846393</td>\n",
        "      <td> M</td>\n",
        "      <td> 18</td>\n",
        "      <td>  4</td>\n",
        "      <td> 92037</td>\n",
        "      <td>        Player, The (1992)</td>\n",
        "      <td>          Comedy|Drama</td>\n",
        "      <td> False</td>\n",
        "    </tr>\n",
        "    <tr>\n",
        "      <th>777848</th>\n",
        "      <td> 4186</td>\n",
        "      <td> 2403</td>\n",
        "      <td> 3</td>\n",
        "      <td> 1017931262</td>\n",
        "      <td> M</td>\n",
        "      <td> 25</td>\n",
        "      <td>  7</td>\n",
        "      <td> 33308</td>\n",
        "      <td>        First Blood (1982)</td>\n",
        "      <td>                Action</td>\n",
        "      <td> False</td>\n",
        "    </tr>\n",
        "  </tbody>\n",
        "</table>\n",
        "<p>5 rows \u00d7 11 columns</p>\n",
        "</div>"
       ],
       "metadata": {},
       "output_type": "pyout",
       "prompt_number": 36,
       "text": [
        "        user_id  movie_id  rating   timestamp gender  age  occupation    zip  \\\n",
        "693323     4653      2648       4   975532459      M   35          12  95051   \n",
        "24177      2259      1270       4   974591524      F   56          16  70503   \n",
        "202202     3032      1378       5   970343147      M   25           0  47303   \n",
        "262003     3029      2289       4   972846393      M   18           4  92037   \n",
        "777848     4186      2403       3  1017931262      M   25           7  33308   \n",
        "\n",
        "                            title                 genres for_testing  \n",
        "693323        Frankenstein (1931)                 Horror       False  \n",
        "24177   Back to the Future (1985)          Comedy|Sci-Fi       False  \n",
        "202202          Young Guns (1988)  Action|Comedy|Western       False  \n",
        "262003         Player, The (1992)           Comedy|Drama       False  \n",
        "777848         First Blood (1982)                 Action       False  \n",
        "\n",
        "[5 rows x 11 columns]"
       ]
      }
     ],
     "prompt_number": 36
    },
    {
     "cell_type": "markdown",
     "metadata": {},
     "source": [
      "# Reco systems questions: Estimation Functions"
     ]
    },
    {
     "cell_type": "markdown",
     "metadata": {},
     "source": [
      "## 1. Simple content filtering using mean ratings"
     ]
    },
    {
     "cell_type": "code",
     "collapsed": false,
     "input": [
      "# write an 'estimate' function that computes the mean rating of a particular user\n",
      "def estimate1(user_id, movie_id):\n",
      "    # first, index into all ratings by this user\n",
      "    # second, compute the mean of those ratings\n",
      "    # for now, we'll just return None\n",
      "\n",
      "    user_condition = movielens_train.user_id == user_id\n",
      "    return movielens_train.loc[user_condition, 'rating'].mean()\n",
      "\n",
      "\n",
      "# try it out for a user_id, movie_id pair\n",
      "estimate1(4653, 2648)"
     ],
     "language": "python",
     "metadata": {},
     "outputs": [
      {
       "metadata": {},
       "output_type": "pyout",
       "prompt_number": 40,
       "text": [
        "3.6666666666666665"
       ]
      }
     ],
     "prompt_number": 40
    },
    {
     "cell_type": "markdown",
     "metadata": {},
     "source": [
      "## 2. Simple collaborative filtering using mean ratings"
     ]
    },
    {
     "cell_type": "code",
     "collapsed": false,
     "input": [
      "# write an 'estimate' function that computes the mean rating of a particular user\n",
      "def estimate2(user_id, movie_id):\n",
      "    # first, index into all ratings of this movie\n",
      "    # second, compute the mean of those ratings\n",
      "    # for now, we'll just return None\n",
      "    user_condition = movielens_train.user_id != user_id\n",
      "    movie_condition = movielens_train.movie_id == movie_id\n",
      "    ratings_by_others = movielens_train.loc[user_condition & movie_condition]\n",
      "    if ratings_by_others.empty: \n",
      "        return 3.0\n",
      "    else:\n",
      "        return ratings_by_others.rating.mean()\n",
      "\n",
      "    \n",
      "# try it out for a user_id, movie_id pair\n",
      "estimate2(4653, 2648)"
     ],
     "language": "python",
     "metadata": {},
     "outputs": [
      {
       "metadata": {},
       "output_type": "pyout",
       "prompt_number": 42,
       "text": [
        "4.0"
       ]
      }
     ],
     "prompt_number": 42
    },
    {
     "cell_type": "markdown",
     "metadata": {},
     "source": [
      "# Mini-Challenge\n",
      "\n",
      "These are the two functions that you will need to test your `estimate` method."
     ]
    },
    {
     "cell_type": "code",
     "collapsed": false,
     "input": [
      "def compute_rmse(y_pred, y_true):\n",
      "    \"\"\" Compute Root Mean Squared Error. \"\"\"\n",
      "    \n",
      "    return np.sqrt(np.mean(np.power(y_pred - y_true, 2)))"
     ],
     "language": "python",
     "metadata": {},
     "outputs": [],
     "prompt_number": 43
    },
    {
     "cell_type": "code",
     "collapsed": false,
     "input": [
      "def evaluate(estimate_f):\n",
      "    \"\"\" RMSE-based predictive performance evaluation with pandas. \"\"\"\n",
      "    \n",
      "    ids_to_estimate = zip(movielens_test.user_id, movielens_test.movie_id)\n",
      "    estimated = np.array([estimate_f(u,i) for (u,i) in ids_to_estimate])\n",
      "    real = movielens_test.rating.values\n",
      "    return compute_rmse(estimated, real)"
     ],
     "language": "python",
     "metadata": {},
     "outputs": [],
     "prompt_number": 44
    },
    {
     "cell_type": "code",
     "collapsed": false,
     "input": [
      "# write your estimate function here\n",
      "def my_estimate_func(user_id, movie_id):\n",
      "    return 3.0"
     ],
     "language": "python",
     "metadata": {},
     "outputs": []
    },
    {
     "cell_type": "markdown",
     "metadata": {},
     "source": [
      "With those, you can test for performance with the following line, which assumes that your function is called `my_estimate_func`:"
     ]
    },
    {
     "cell_type": "code",
     "collapsed": false,
     "input": [
      "print 'RMSE for my estimate function: %s' % evaluate(my_estimate_func)"
     ],
     "language": "python",
     "metadata": {},
     "outputs": []
    },
    {
     "cell_type": "markdown",
     "metadata": {},
     "source": [
      "Once you are happy with your score, you can submit your RMSE by running this function (in the hosted notebook only):"
     ]
    },
    {
     "cell_type": "code",
     "collapsed": false,
     "input": [
      "from update_score import update_score\n",
      "update_score(evaluate(my_estimate_func))"
     ],
     "language": "python",
     "metadata": {},
     "outputs": []
    }
   ],
   "metadata": {}
  }
 ]
}