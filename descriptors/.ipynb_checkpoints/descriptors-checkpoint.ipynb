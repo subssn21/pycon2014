{
 "metadata": {
  "name": "",
  "signature": "sha256:a3220e0f6c98dd5a780dffdf082677a23b5cf37290cb3ea8057625e6c7b8452b"
 },
 "nbformat": 3,
 "nbformat_minor": 0,
 "worksheets": []
}