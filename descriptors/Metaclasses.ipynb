{
 "metadata": {
  "name": "",
  "signature": "sha256:b3371e9e01921f926c69c4d5235ec4c9da99e58ae48106de33cdd1a44ac8802a"
 },
 "nbformat": 3,
 "nbformat_minor": 0,
 "worksheets": [
  {
   "cells": [
    {
     "cell_type": "heading",
     "level": 1,
     "metadata": {},
     "source": [
      "Metaclasses"
     ]
    },
    {
     "cell_type": "code",
     "collapsed": false,
     "input": [],
     "language": "python",
     "metadata": {},
     "outputs": []
    }
   ],
   "metadata": {}
  }
 ]
}