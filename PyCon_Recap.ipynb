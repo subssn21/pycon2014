{
 "metadata": {
  "name": ""
 },
 "nbformat": 3,
 "nbformat_minor": 0,
 "worksheets": [
  {
   "cells": [
    {
     "cell_type": "heading",
     "level": 1,
     "metadata": {},
     "source": [
      "What we learned at PyCon 2014"
     ]
    },
    {
     "cell_type": "raw",
     "metadata": {},
     "source": [
      "ipython Notebook is cool! Not sure what we use it for though"
     ]
    },
    {
     "cell_type": "heading",
     "level": 2,
     "metadata": {},
     "source": [
      "Machine Learning"
     ]
    },
    {
     "cell_type": "heading",
     "level": 2,
     "metadata": {},
     "source": [
      "Descriptors & Metaclasses"
     ]
    },
    {
     "cell_type": "raw",
     "metadata": {},
     "source": [
      "Property is a descriptor"
     ]
    },
    {
     "cell_type": "raw",
     "metadata": {},
     "source": [
      "Descriptors used extensively by SqlAlchemy"
     ]
    },
    {
     "cell_type": "raw",
     "metadata": {},
     "source": [
      "Essentially a class with an __get__ and a __set__ defined"
     ]
    },
    {
     "cell_type": "raw",
     "metadata": {},
     "source": [
      "Usually you should use a property"
     ]
    },
    {
     "cell_type": "raw",
     "metadata": {},
     "source": [
      "Descriptors are useful when mixed with Metaclasses"
     ]
    },
    {
     "cell_type": "raw",
     "metadata": {},
     "source": [
      "Metaclasses are powerful and dangerous"
     ]
    },
    {
     "cell_type": "raw",
     "metadata": {},
     "source": [
      "Used extensively in ORMs "
     ]
    },
    {
     "cell_type": "raw",
     "metadata": {},
     "source": [
      "Can also be used for debugging"
     ]
    },
    {
     "cell_type": "heading",
     "level": 2,
     "metadata": {},
     "source": [
      "Bayesian Statistics"
     ]
    },
    {
     "cell_type": "heading",
     "level": 2,
     "metadata": {},
     "source": [
      "SQL Alchemy"
     ]
    },
    {
     "cell_type": "heading",
     "level": 2,
     "metadata": {},
     "source": [
      "Soft Stuff"
     ]
    },
    {
     "cell_type": "raw",
     "metadata": {},
     "source": [
      "Be Nice to each other"
     ]
    },
    {
     "cell_type": "raw",
     "metadata": {},
     "source": [
      "Tell people when they do good stuff, not just constructive critisism"
     ]
    },
    {
     "cell_type": "raw",
     "metadata": {},
     "source": [
      "Slay your heros"
     ]
    },
    {
     "cell_type": "heading",
     "level": 2,
     "metadata": {},
     "source": [
      "Brython"
     ]
    },
    {
     "cell_type": "heading",
     "level": 2,
     "metadata": {},
     "source": [
      "Fast Python, Slow Python"
     ]
    },
    {
     "cell_type": "raw",
     "metadata": {},
     "source": [
      "Classes are faster than dictionaries in Python 3"
     ]
    },
    {
     "cell_type": "heading",
     "level": 2,
     "metadata": {},
     "source": [
      "Python 3"
     ]
    },
    {
     "cell_type": "raw",
     "metadata": {},
     "source": [
      "We should plan to get here sometime"
     ]
    },
    {
     "cell_type": "raw",
     "metadata": {},
     "source": [
      "Has much better support for memory leak detection, Cool debugging hooks"
     ]
    },
    {
     "cell_type": "heading",
     "level": 2,
     "metadata": {},
     "source": [
      "REST/API"
     ]
    },
    {
     "cell_type": "raw",
     "metadata": {},
     "source": [
      "A couple of talks about designing APIs"
     ]
    },
    {
     "cell_type": "heading",
     "level": 2,
     "metadata": {},
     "source": [
      "GEO DATA"
     ]
    }
   ],
   "metadata": {}
  }
 ]
}